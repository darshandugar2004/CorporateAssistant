{
 "cells": [
  {
   "cell_type": "code",
   "execution_count": 1,
   "metadata": {
    "id": "pms78hlBQMKB"
   },
   "outputs": [],
   "source": [
    "# 476e23d9bf3a3da88d6b8f692a445705bac2097b\n",
    "# key"
   ]
  },
  {
   "cell_type": "code",
   "execution_count": 2,
   "metadata": {
    "colab": {
     "base_uri": "https://localhost:8080/"
    },
    "id": "LMe_ZZULPaP0",
    "outputId": "2880866e-2fa9-4a80-c068-f205cc97e8b8"
   },
   "outputs": [
    {
     "name": "stdout",
     "output_type": "stream",
     "text": [
      "Using CPU. Training might be slow.\n",
      "WARNING:tensorflow:From C:\\Users\\Darshan\\AppData\\Roaming\\Python\\Python312\\site-packages\\tf_keras\\src\\losses.py:2976: The name tf.losses.sparse_softmax_cross_entropy is deprecated. Please use tf.compat.v1.losses.sparse_softmax_cross_entropy instead.\n",
      "\n"
     ]
    }
   ],
   "source": [
    "# Check if GPU is available (highly recommended for faster training)\n",
    "import torch\n",
    "if torch.cuda.is_available():\n",
    "    device = torch.device(\"cuda\")\n",
    "    print(f\"Using GPU: {torch.cuda.get_device_name(0)}\")\n",
    "else:\n",
    "    device = torch.device(\"cpu\")\n",
    "    print(\"Using CPU. Training might be slow.\")\n",
    "\n",
    "# 1. Install necessary libraries\n",
    "!pip install -qq transformers datasets accelerate scikit-learn pandas tabulate\n",
    "\n",
    "# Imports\n",
    "from datasets import load_dataset, DatasetDict, Dataset\n",
    "from transformers import AutoTokenizer, AutoModelForSequenceClassification, Trainer, TrainingArguments\n",
    "from sklearn.metrics import accuracy_score, f1_score, precision_recall_fscore_support\n",
    "import pandas as pd\n",
    "import numpy as np\n",
    "from tabulate import tabulate # Import tabulate for pretty printing\n",
    "\n",
    "# Set a seed for reproducibility\n",
    "import random\n",
    "random.seed(42)\n",
    "np.random.seed(42)\n",
    "torch.manual_seed(42)\n",
    "torch.cuda.manual_seed_all(42)"
   ]
  },
  {
   "cell_type": "code",
   "execution_count": 3,
   "metadata": {
    "id": "e0yHu190QwO4"
   },
   "outputs": [
    {
     "name": "stdout",
     "output_type": "stream",
     "text": [
      "\n",
      "--- 1. Loading and Preparing Dataset ---\n"
     ]
    },
    {
     "data": {
      "application/vnd.jupyter.widget-view+json": {
       "model_id": "c08f2a48eea9405c82549a6336236d03",
       "version_major": 2,
       "version_minor": 0
      },
      "text/plain": [
       "README.md: 0.00B [00:00, ?B/s]"
      ]
     },
     "metadata": {},
     "output_type": "display_data"
    },
    {
     "data": {
      "application/vnd.jupyter.widget-view+json": {
       "model_id": "df545f52f17947aa93bdbda7fc2f3032",
       "version_major": 2,
       "version_minor": 0
      },
      "text/plain": [
       "data.csv: 0.00B [00:00, ?B/s]"
      ]
     },
     "metadata": {},
     "output_type": "display_data"
    },
    {
     "data": {
      "application/vnd.jupyter.widget-view+json": {
       "model_id": "f087cd7925484277ad4eff1bede55c5d",
       "version_major": 2,
       "version_minor": 0
      },
      "text/plain": [
       "Generating train split:   0%|          | 0/100 [00:00<?, ? examples/s]"
      ]
     },
     "metadata": {},
     "output_type": "display_data"
    }
   ],
   "source": [
    "print(\"\\n--- 1. Loading and Preparing Dataset ---\")\n",
    "# 2. Load Dataset\n",
    "ds = load_dataset(\"infinite-dataset-hub/CorporateMailCategorization\")\n",
    "\n",
    "# Convert to pandas DataFrame for easier null handling\n",
    "df = ds[\"train\"].to_pandas()"
   ]
  },
  {
   "cell_type": "code",
   "execution_count": 4,
   "metadata": {
    "colab": {
     "base_uri": "https://localhost:8080/",
     "height": 312,
     "referenced_widgets": [
      "41a66651099b4ca08d8d7758c0808ce6",
      "6035db94644c407a85181d57c69e35d6",
      "b557bd26d71a4e4794ddf87c1f95d12a",
      "f10285a100984ecf8efbe55d1faefed9",
      "3f6bae03f3fc47baa238e6d20bdd1e5d",
      "bf774737929442b68ec6089b670de3dc",
      "9444a5472ae14e478de2d15f2c2c1507",
      "be265ec73272424788d7af30fdb25ae5",
      "1b5b858a1d584a66b51aa2aa01378da6",
      "2f978867c30d41618d68db183c77b9d6",
      "dcb40a17740f4b19b97b79fce7d8b5ba"
     ]
    },
    "id": "zsWr7aEEPcqE",
    "outputId": "0660eb45-3f18-462e-cd2a-6ab63d6ac895"
   },
   "outputs": [
    {
     "name": "stdout",
     "output_type": "stream",
     "text": [
      "\n",
      "Dropped 10 rows with null 'label' values.\n",
      "Remaining rows after dropping nulls: 90\n"
     ]
    }
   ],
   "source": [
    "# 3. Drop Null Rows\n",
    "initial_rows = len(df)\n",
    "df_cleaned = df.dropna(subset=['label']).copy()\n",
    "rows_dropped = initial_rows - len(df_cleaned)\n",
    "print(f\"\\nDropped {rows_dropped} rows with null 'label' values.\")\n",
    "print(f\"Remaining rows after dropping nulls: {len(df_cleaned)}\")"
   ]
  },
  {
   "cell_type": "code",
   "execution_count": 5,
   "metadata": {
    "colab": {
     "base_uri": "https://localhost:8080/",
     "height": 1244
    },
    "id": "mwzlt6AKR9l_",
    "outputId": "3e580f01-2770-41dd-ac3e-687df8e5ced8"
   },
   "outputs": [
    {
     "data": {
      "text/html": [
       "<div>\n",
       "<style scoped>\n",
       "    .dataframe tbody tr th:only-of-type {\n",
       "        vertical-align: middle;\n",
       "    }\n",
       "\n",
       "    .dataframe tbody tr th {\n",
       "        vertical-align: top;\n",
       "    }\n",
       "\n",
       "    .dataframe thead th {\n",
       "        text-align: right;\n",
       "    }\n",
       "</style>\n",
       "<table border=\"1\" class=\"dataframe\">\n",
       "  <thead>\n",
       "    <tr style=\"text-align: right;\">\n",
       "      <th></th>\n",
       "      <th>idx</th>\n",
       "      <th>text</th>\n",
       "      <th>label</th>\n",
       "    </tr>\n",
       "  </thead>\n",
       "  <tbody>\n",
       "    <tr>\n",
       "      <th>0</th>\n",
       "      <td>0</td>\n",
       "      <td>Dear Team, I wanted to discuss the upcoming pr...</td>\n",
       "      <td>Product Launch</td>\n",
       "    </tr>\n",
       "    <tr>\n",
       "      <th>1</th>\n",
       "      <td>1</td>\n",
       "      <td>Good morning, I need the quarterly financial r...</td>\n",
       "      <td>Financial Report</td>\n",
       "    </tr>\n",
       "    <tr>\n",
       "      <th>2</th>\n",
       "      <td>2</td>\n",
       "      <td>I am pleased to announce that we have successf...</td>\n",
       "      <td>Merger Announcement</td>\n",
       "    </tr>\n",
       "    <tr>\n",
       "      <th>3</th>\n",
       "      <td>3</td>\n",
       "      <td>Please review the attached employee satisfacti...</td>\n",
       "      <td>Employee Feedback</td>\n",
       "    </tr>\n",
       "    <tr>\n",
       "      <th>4</th>\n",
       "      <td>4</td>\n",
       "      <td>Our new sustainability initiatives are ready f...</td>\n",
       "      <td>Sustainability Initiative</td>\n",
       "    </tr>\n",
       "    <tr>\n",
       "      <th>...</th>\n",
       "      <td>...</td>\n",
       "      <td>...</td>\n",
       "      <td>...</td>\n",
       "    </tr>\n",
       "    <tr>\n",
       "      <th>94</th>\n",
       "      <td>94</td>\n",
       "      <td>We need to prioritize eco-friendly options in ...</td>\n",
       "      <td>Sustainability Initiative</td>\n",
       "    </tr>\n",
       "    <tr>\n",
       "      <th>96</th>\n",
       "      <td>96</td>\n",
       "      <td>This financial report outlines our budget allo...</td>\n",
       "      <td>Budget Report</td>\n",
       "    </tr>\n",
       "    <tr>\n",
       "      <th>97</th>\n",
       "      <td>97</td>\n",
       "      <td>Important: We have merged with PQR Ltd. Prepar...</td>\n",
       "      <td>Merger Announcement</td>\n",
       "    </tr>\n",
       "    <tr>\n",
       "      <th>98</th>\n",
       "      <td>98</td>\n",
       "      <td>The training sessions on data privacy and secu...</td>\n",
       "      <td>Employee Feedback</td>\n",
       "    </tr>\n",
       "    <tr>\n",
       "      <th>99</th>\n",
       "      <td>99</td>\n",
       "      <td>Our 'Zero-Waste Campaign' has made significant...</td>\n",
       "      <td>Sustainability Initiative</td>\n",
       "    </tr>\n",
       "  </tbody>\n",
       "</table>\n",
       "<p>90 rows × 3 columns</p>\n",
       "</div>"
      ],
      "text/plain": [
       "    idx                                               text  \\\n",
       "0     0  Dear Team, I wanted to discuss the upcoming pr...   \n",
       "1     1  Good morning, I need the quarterly financial r...   \n",
       "2     2  I am pleased to announce that we have successf...   \n",
       "3     3  Please review the attached employee satisfacti...   \n",
       "4     4  Our new sustainability initiatives are ready f...   \n",
       "..  ...                                                ...   \n",
       "94   94  We need to prioritize eco-friendly options in ...   \n",
       "96   96  This financial report outlines our budget allo...   \n",
       "97   97  Important: We have merged with PQR Ltd. Prepar...   \n",
       "98   98  The training sessions on data privacy and secu...   \n",
       "99   99  Our 'Zero-Waste Campaign' has made significant...   \n",
       "\n",
       "                        label  \n",
       "0              Product Launch  \n",
       "1            Financial Report  \n",
       "2         Merger Announcement  \n",
       "3           Employee Feedback  \n",
       "4   Sustainability Initiative  \n",
       "..                        ...  \n",
       "94  Sustainability Initiative  \n",
       "96              Budget Report  \n",
       "97        Merger Announcement  \n",
       "98          Employee Feedback  \n",
       "99  Sustainability Initiative  \n",
       "\n",
       "[90 rows x 3 columns]"
      ]
     },
     "execution_count": 5,
     "metadata": {},
     "output_type": "execute_result"
    }
   ],
   "source": [
    "df_cleaned"
   ]
  },
  {
   "cell_type": "code",
   "execution_count": 6,
   "metadata": {
    "colab": {
     "base_uri": "https://localhost:8080/",
     "height": 554
    },
    "id": "aY6w6a3BRC3K",
    "outputId": "a75f7093-59c7-4afd-fb32-d66e8eba2134"
   },
   "outputs": [
    {
     "data": {
      "text/plain": [
       "label\n",
       "Employee Feedback               21\n",
       "Merger Announcement             21\n",
       "Sustainability Initiative       21\n",
       "Financial Report                12\n",
       "Product Launch                   6\n",
       "Financial Projections            1\n",
       "Financial Performance            1\n",
       "Preliminary Financial Report     1\n",
       "Audit Request                    1\n",
       "Financial Analysis               1\n",
       "Profit Analysis                  1\n",
       "Summary Financial Report         1\n",
       "Financial Health                 1\n",
       "Budget Report                    1\n",
       "Name: count, dtype: int64"
      ]
     },
     "execution_count": 6,
     "metadata": {},
     "output_type": "execute_result"
    }
   ],
   "source": [
    "import matplotlib.pyplot as plt\n",
    "import pandas as pd\n",
    "from datasets import load_dataset\n",
    "\n",
    "label_counts = df_cleaned['label'].value_counts()\n",
    "label_counts\n",
    "# # 2. Create the pie chart\n",
    "# plt.figure(figsize=(8, 8)) # Set the figure size for better visualization\n",
    "# plt.pie(\n",
    "#     label_counts,\n",
    "#     labels=label_counts.index, # Use the category names as labels\n",
    "#     autopct='%1.1f%%',         # Display percentages on the slices\n",
    "#     startangle=90              # Start the first slice at the top\n",
    "# )\n",
    "# plt.title('Distribution of Email Categories') # Add a title to the chart\n",
    "# plt.axis('equal') # Ensures the pie chart is drawn as a perfect circle\n",
    "# plt.show() # Display the chart"
   ]
  },
  {
   "cell_type": "code",
   "execution_count": 7,
   "metadata": {
    "id": "kUh7IeAqRA5P"
   },
   "outputs": [
    {
     "name": "stdout",
     "output_type": "stream",
     "text": [
      "\n",
      "Detected labels and their mappings: {'Audit Request': 0, 'Budget Report': 1, 'Employee Feedback': 2, 'Financial Analysis': 3, 'Financial Health': 4, 'Financial Performance': 5, 'Financial Projections': 6, 'Financial Report': 7, 'Merger Announcement': 8, 'Preliminary Financial Report': 9, 'Product Launch': 10, 'Profit Analysis': 11, 'Summary Financial Report': 12, 'Sustainability Initiative': 13}\n",
      "Number of unique labels: 14\n"
     ]
    },
    {
     "data": {
      "application/vnd.jupyter.widget-view+json": {
       "model_id": "be5911e8e2504e56aa0c309da120df5a",
       "version_major": 2,
       "version_minor": 0
      },
      "text/plain": [
       "Map:   0%|          | 0/90 [00:00<?, ? examples/s]"
      ]
     },
     "metadata": {},
     "output_type": "display_data"
    }
   ],
   "source": [
    "# Important: Map string labels to integers for the model\n",
    "# Get unique labels from the cleaned dataset\n",
    "unique_labels = sorted(df_cleaned['label'].unique().tolist())\n",
    "label_to_id = {label: i for i, label in enumerate(unique_labels)}\n",
    "id_to_label = {i: label for i, label in enumerate(unique_labels)}\n",
    "\n",
    "print(f\"\\nDetected labels and their mappings: {label_to_id}\")\n",
    "num_labels = len(unique_labels)\n",
    "print(f\"Number of unique labels: {num_labels}\")\n",
    "\n",
    "# Apply label mapping to the cleaned dataset\n",
    "def map_labels_to_ids(example):\n",
    "    example['label'] = label_to_id[example['label']]\n",
    "    return example\n",
    "\n",
    "# Convert cleaned DataFrame to Hugging Face Dataset\n",
    "full_labeled_ds = Dataset.from_pandas(df_cleaned).map(map_labels_to_ids)"
   ]
  },
  {
   "cell_type": "code",
   "execution_count": 8,
   "metadata": {
    "colab": {
     "base_uri": "https://localhost:8080/"
    },
    "id": "sK2DHmRRPinS",
    "outputId": "661d24d2-bf16-4b2a-d76d-083867673aa7"
   },
   "outputs": [
    {
     "name": "stdout",
     "output_type": "stream",
     "text": [
      "\n",
      "Dataset Splits:\n",
      "  Training samples: 71\n",
      "  Validation samples: 10\n",
      "  Final Test samples: 9\n",
      "\n",
      "Train Dataset Split Structure: Dataset({\n",
      "    features: ['idx', 'text', 'label', '__index_level_0__'],\n",
      "    num_rows: 71\n",
      "})\n",
      "Validation Dataset Split Structure: Dataset({\n",
      "    features: ['idx', 'text', 'label', '__index_level_0__'],\n",
      "    num_rows: 10\n",
      "})\n",
      "Final Test Dataset Structure: Dataset({\n",
      "    features: ['idx', 'text', 'label', '__index_level_0__'],\n",
      "    num_rows: 9\n",
      "})\n"
     ]
    }
   ],
   "source": [
    "train_val_test_split = full_labeled_ds.train_test_split(test_size=0.1, seed=42)\n",
    "train_val_ds = train_val_test_split[\"train\"]\n",
    "test_ds_final = train_val_test_split[\"test\"] # This is our final, labeled test set\n",
    "\n",
    "train_val_split_ratio = 0.88888888888\n",
    "train_val_split = train_val_ds.train_test_split(test_size=1-train_val_split_ratio, seed=42)\n",
    "train_ds_split = train_val_split[\"train\"]\n",
    "eval_ds_split = train_val_split[\"test\"] # This is our validation set\n",
    "\n",
    "print(f\"\\nDataset Splits:\")\n",
    "print(f\"  Training samples: {len(train_ds_split)}\")\n",
    "print(f\"  Validation samples: {len(eval_ds_split)}\")\n",
    "print(f\"  Final Test samples: {len(test_ds_final)}\")\n",
    "\n",
    "print(\"\\nTrain Dataset Split Structure:\", train_ds_split)\n",
    "print(\"Validation Dataset Split Structure:\", eval_ds_split)\n",
    "print(\"Final Test Dataset Structure:\", test_ds_final)"
   ]
  },
  {
   "cell_type": "code",
   "execution_count": 9,
   "metadata": {
    "colab": {
     "base_uri": "https://localhost:8080/"
    },
    "id": "mUNl5bhTPlnA",
    "outputId": "3b3b25cb-c028-4926-f475-076ff74f9600"
   },
   "outputs": [
    {
     "name": "stdout",
     "output_type": "stream",
     "text": [
      "\n",
      "--- 2. Loading Tokenizer and Model ---\n"
     ]
    },
    {
     "data": {
      "application/vnd.jupyter.widget-view+json": {
       "model_id": "700ab79c1cbc4ccfb9b82d72cc685041",
       "version_major": 2,
       "version_minor": 0
      },
      "text/plain": [
       "tokenizer_config.json:   0%|          | 0.00/48.0 [00:00<?, ?B/s]"
      ]
     },
     "metadata": {},
     "output_type": "display_data"
    },
    {
     "data": {
      "application/vnd.jupyter.widget-view+json": {
       "model_id": "a4689c1719cb4b50aca8a201c735e153",
       "version_major": 2,
       "version_minor": 0
      },
      "text/plain": [
       "config.json:   0%|          | 0.00/483 [00:00<?, ?B/s]"
      ]
     },
     "metadata": {},
     "output_type": "display_data"
    },
    {
     "data": {
      "application/vnd.jupyter.widget-view+json": {
       "model_id": "7a4a1de031ea4d40a8b7538c8a56e9a2",
       "version_major": 2,
       "version_minor": 0
      },
      "text/plain": [
       "vocab.txt:   0%|          | 0.00/232k [00:00<?, ?B/s]"
      ]
     },
     "metadata": {},
     "output_type": "display_data"
    },
    {
     "data": {
      "application/vnd.jupyter.widget-view+json": {
       "model_id": "d28f136b32b547d0b7162d6b08b76695",
       "version_major": 2,
       "version_minor": 0
      },
      "text/plain": [
       "tokenizer.json:   0%|          | 0.00/466k [00:00<?, ?B/s]"
      ]
     },
     "metadata": {},
     "output_type": "display_data"
    },
    {
     "data": {
      "application/vnd.jupyter.widget-view+json": {
       "model_id": "82e8b26aade2414c856d2419ae4d1b27",
       "version_major": 2,
       "version_minor": 0
      },
      "text/plain": [
       "model.safetensors:   0%|          | 0.00/268M [00:00<?, ?B/s]"
      ]
     },
     "metadata": {},
     "output_type": "display_data"
    },
    {
     "name": "stderr",
     "output_type": "stream",
     "text": [
      "Some weights of DistilBertForSequenceClassification were not initialized from the model checkpoint at distilbert-base-uncased and are newly initialized: ['classifier.bias', 'classifier.weight', 'pre_classifier.bias', 'pre_classifier.weight']\n",
      "You should probably TRAIN this model on a down-stream task to be able to use it for predictions and inference.\n"
     ]
    },
    {
     "data": {
      "text/plain": [
       "DistilBertForSequenceClassification(\n",
       "  (distilbert): DistilBertModel(\n",
       "    (embeddings): Embeddings(\n",
       "      (word_embeddings): Embedding(30522, 768, padding_idx=0)\n",
       "      (position_embeddings): Embedding(512, 768)\n",
       "      (LayerNorm): LayerNorm((768,), eps=1e-12, elementwise_affine=True)\n",
       "      (dropout): Dropout(p=0.1, inplace=False)\n",
       "    )\n",
       "    (transformer): Transformer(\n",
       "      (layer): ModuleList(\n",
       "        (0-5): 6 x TransformerBlock(\n",
       "          (attention): DistilBertSdpaAttention(\n",
       "            (dropout): Dropout(p=0.1, inplace=False)\n",
       "            (q_lin): Linear(in_features=768, out_features=768, bias=True)\n",
       "            (k_lin): Linear(in_features=768, out_features=768, bias=True)\n",
       "            (v_lin): Linear(in_features=768, out_features=768, bias=True)\n",
       "            (out_lin): Linear(in_features=768, out_features=768, bias=True)\n",
       "          )\n",
       "          (sa_layer_norm): LayerNorm((768,), eps=1e-12, elementwise_affine=True)\n",
       "          (ffn): FFN(\n",
       "            (dropout): Dropout(p=0.1, inplace=False)\n",
       "            (lin1): Linear(in_features=768, out_features=3072, bias=True)\n",
       "            (lin2): Linear(in_features=3072, out_features=768, bias=True)\n",
       "            (activation): GELUActivation()\n",
       "          )\n",
       "          (output_layer_norm): LayerNorm((768,), eps=1e-12, elementwise_affine=True)\n",
       "        )\n",
       "      )\n",
       "    )\n",
       "  )\n",
       "  (pre_classifier): Linear(in_features=768, out_features=768, bias=True)\n",
       "  (classifier): Linear(in_features=768, out_features=14, bias=True)\n",
       "  (dropout): Dropout(p=0.2, inplace=False)\n",
       ")"
      ]
     },
     "execution_count": 9,
     "metadata": {},
     "output_type": "execute_result"
    }
   ],
   "source": [
    "print(\"\\n--- 2. Loading Tokenizer and Model ---\")\n",
    "# 5. Load Tokenizer and Model\n",
    "model_name = \"distilbert-base-uncased\"\n",
    "tokenizer = AutoTokenizer.from_pretrained(model_name)\n",
    "model = AutoModelForSequenceClassification.from_pretrained(model_name, num_labels=num_labels)\n",
    "\n",
    "# Move model to GPU if available\n",
    "model.to(device)\n"
   ]
  },
  {
   "cell_type": "code",
   "execution_count": 10,
   "metadata": {
    "colab": {
     "base_uri": "https://localhost:8080/",
     "height": 148,
     "referenced_widgets": [
      "aab94b0bfde146a090915087e8c72349",
      "47d158b2429743689d1a9ed9ce588cb6",
      "38e9e5b4f2c04bd6abf2cd850274ea13",
      "93198560051c435880833b081316114e",
      "1bd24abcffe04800ae8c48882bd291cb",
      "d7811e69af4c4734a07dd6d8d4135937",
      "4fc1453138054ae290fdd1d23574f8ff",
      "e6161b980e014dc5bdbd92de44242aee",
      "43ce368d73024e8d99f36ce453053d1c",
      "181c0008e0e04d309766adb23ed00286",
      "6caac7a36860495e895f36cfa0c73e3a",
      "522e0181d3234674a6f395fc0df75537",
      "f9b46506c065462a8241f7482e03cd5e",
      "fbd6c33be5e54538a33143e1841afd94",
      "a6dda44b9f94410ba3b4726d446d87e6",
      "7f3e31ff46b64c11ba9f320e6b92d561",
      "c5b730eb812e4bc5b4bef7f8859fd987",
      "abd4e20d07fc4c759ad51539a518da8b",
      "2220edf2d3404872b313ef8f0032bfc2",
      "9d2b6f198c424e008d160baafc95ff5f",
      "e57a1d8fa2bf4a55821994f9b11f8946",
      "ab4d666ab72643c28d48ec4d73c4d5a4",
      "92accd68dc9a4d13b57e6afc9c6ab7e9",
      "76bb7c240f5748cb909e18a74a232bb0",
      "5caf5ade188f4386af3c88579daa5f15",
      "bcc27fae08834da2b510c76eda59feb7",
      "de0cd1846ffb4cc79cc0bdfd50e57ce4",
      "583ca331fb5d45d0aa0c77573726e203",
      "ca168de9f8f64591b6bae9b1245d732a",
      "29d2628f0fb14a92a1efa478f25082ab",
      "1d857b79028341859a1d9f632fc1a58d",
      "45f572b9fd9a4bb6a825e61a886cfbdf",
      "c000f2e13478477c813e92d983e17f37"
     ]
    },
    "id": "ns6ojsjrPnP6",
    "outputId": "8b9830d4-1a09-43bb-f6ed-563a6972fb9c"
   },
   "outputs": [
    {
     "name": "stdout",
     "output_type": "stream",
     "text": [
      "\n",
      "--- 3. Tokenizing Data ---\n"
     ]
    },
    {
     "data": {
      "application/vnd.jupyter.widget-view+json": {
       "model_id": "f5e79103fc3c44e796744c28ee8faf80",
       "version_major": 2,
       "version_minor": 0
      },
      "text/plain": [
       "Map:   0%|          | 0/71 [00:00<?, ? examples/s]"
      ]
     },
     "metadata": {},
     "output_type": "display_data"
    },
    {
     "data": {
      "application/vnd.jupyter.widget-view+json": {
       "model_id": "65efb6e6872d4e32a1512f492af09fc2",
       "version_major": 2,
       "version_minor": 0
      },
      "text/plain": [
       "Map:   0%|          | 0/10 [00:00<?, ? examples/s]"
      ]
     },
     "metadata": {},
     "output_type": "display_data"
    },
    {
     "data": {
      "application/vnd.jupyter.widget-view+json": {
       "model_id": "3d177409b42b456ba5a2c9c37475ce26",
       "version_major": 2,
       "version_minor": 0
      },
      "text/plain": [
       "Map:   0%|          | 0/9 [00:00<?, ? examples/s]"
      ]
     },
     "metadata": {},
     "output_type": "display_data"
    },
    {
     "name": "stdout",
     "output_type": "stream",
     "text": [
      "\n",
      "--- 4. Defining Metrics ---\n"
     ]
    }
   ],
   "source": [
    "print(\"\\n--- 3. Tokenizing Data ---\")\n",
    "# 6. Tokenize Data\n",
    "def tokenize_function(examples):\n",
    "    return tokenizer(examples[\"text\"], padding=\"max_length\", truncation=True, max_length=128)\n",
    "\n",
    "tokenized_train_ds = train_ds_split.map(tokenize_function, batched=True)\n",
    "tokenized_eval_ds = eval_ds_split.map(tokenize_function, batched=True)\n",
    "tokenized_test_ds_final = test_ds_final.map(tokenize_function, batched=True) # Tokenize final test set\n",
    "\n",
    "# Remove original text and idx columns as they are no longer needed for training/evaluation\n",
    "tokenized_train_ds = tokenized_train_ds.remove_columns([\"text\", \"idx\"])\n",
    "tokenized_eval_ds = tokenized_eval_ds.remove_columns([\"text\", \"idx\"])\n",
    "tokenized_test_ds_final = tokenized_test_ds_final.remove_columns([\"text\", \"idx\"]) # Keep label for final test\n",
    "\n",
    "\n",
    "print(\"\\n--- 4. Defining Metrics ---\")"
   ]
  },
  {
   "cell_type": "code",
   "execution_count": 11,
   "metadata": {
    "colab": {
     "base_uri": "https://localhost:8080/"
    },
    "id": "OuGferVTPpIs",
    "outputId": "e8cce2be-fa68-4510-fde4-a3e4e2ab1655"
   },
   "outputs": [
    {
     "name": "stdout",
     "output_type": "stream",
     "text": [
      "\n",
      "--- 5. Setting up Training Arguments ---\n"
     ]
    }
   ],
   "source": [
    "# 7. Define Metrics\n",
    "def compute_metrics(p):\n",
    "    predictions = np.argmax(p.predictions, axis=1)\n",
    "    true_labels = np.array(p.label_ids).flatten()\n",
    "\n",
    "    accuracy = accuracy_score(true_labels, predictions)\n",
    "    f1_weighted = f1_score(true_labels, predictions, average='weighted')\n",
    "    # You can add more metrics like precision, recall if needed\n",
    "    # precision, recall, fscore, _ = precision_recall_fscore_support(true_labels, predictions, average='weighted')\n",
    "\n",
    "    metrics = {\n",
    "        'accuracy': accuracy,\n",
    "        'f1_weighted': f1_weighted,\n",
    "        # 'precision_weighted': precision,\n",
    "        # 'recall_weighted': recall,\n",
    "    }\n",
    "    return metrics\n",
    "\n",
    "\n",
    "print(\"\\n--- 5. Setting up Training Arguments ---\")"
   ]
  },
  {
   "cell_type": "code",
   "execution_count": 12,
   "metadata": {
    "colab": {
     "base_uri": "https://localhost:8080/",
     "height": 706
    },
    "id": "HpJR1RoSPuLe",
    "outputId": "b6011001-181a-4c85-a36e-d2ab54e8b333"
   },
   "outputs": [
    {
     "name": "stderr",
     "output_type": "stream",
     "text": [
      "C:\\Users\\Darshan\\AppData\\Local\\Temp\\ipykernel_21484\\607057447.py:21: FutureWarning: `tokenizer` is deprecated and will be removed in version 5.0.0 for `Trainer.__init__`. Use `processing_class` instead.\n",
      "  trainer = Trainer(\n"
     ]
    },
    {
     "name": "stdout",
     "output_type": "stream",
     "text": [
      "\n",
      "--- 6. Initializing and Running Trainer ---\n"
     ]
    },
    {
     "data": {
      "text/html": [
       "\n",
       "    <div>\n",
       "      \n",
       "      <progress value='25' max='25' style='width:300px; height:20px; vertical-align: middle;'></progress>\n",
       "      [25/25 02:13, Epoch 5/5]\n",
       "    </div>\n",
       "    <table border=\"1\" class=\"dataframe\">\n",
       "  <thead>\n",
       " <tr style=\"text-align: left;\">\n",
       "      <th>Epoch</th>\n",
       "      <th>Training Loss</th>\n",
       "      <th>Validation Loss</th>\n",
       "      <th>Accuracy</th>\n",
       "      <th>F1 Weighted</th>\n",
       "    </tr>\n",
       "  </thead>\n",
       "  <tbody>\n",
       "    <tr>\n",
       "      <td>1</td>\n",
       "      <td>2.616400</td>\n",
       "      <td>2.551044</td>\n",
       "      <td>0.200000</td>\n",
       "      <td>0.066667</td>\n",
       "    </tr>\n",
       "    <tr>\n",
       "      <td>2</td>\n",
       "      <td>2.463700</td>\n",
       "      <td>2.254011</td>\n",
       "      <td>0.300000</td>\n",
       "      <td>0.213333</td>\n",
       "    </tr>\n",
       "    <tr>\n",
       "      <td>3</td>\n",
       "      <td>2.199600</td>\n",
       "      <td>1.973029</td>\n",
       "      <td>0.600000</td>\n",
       "      <td>0.500000</td>\n",
       "    </tr>\n",
       "    <tr>\n",
       "      <td>4</td>\n",
       "      <td>2.043100</td>\n",
       "      <td>1.810151</td>\n",
       "      <td>0.700000</td>\n",
       "      <td>0.651667</td>\n",
       "    </tr>\n",
       "    <tr>\n",
       "      <td>5</td>\n",
       "      <td>1.864500</td>\n",
       "      <td>1.746989</td>\n",
       "      <td>0.800000</td>\n",
       "      <td>0.750476</td>\n",
       "    </tr>\n",
       "  </tbody>\n",
       "</table><p>"
      ],
      "text/plain": [
       "<IPython.core.display.HTML object>"
      ]
     },
     "metadata": {},
     "output_type": "display_data"
    },
    {
     "name": "stdout",
     "output_type": "stream",
     "text": [
      "\n",
      "--- 7. Evaluation Metrics on Validation Set ---\n"
     ]
    },
    {
     "data": {
      "text/html": [
       "\n",
       "    <div>\n",
       "      \n",
       "      <progress value='1' max='1' style='width:300px; height:20px; vertical-align: middle;'></progress>\n",
       "      [1/1 : < :]\n",
       "    </div>\n",
       "    "
      ],
      "text/plain": [
       "<IPython.core.display.HTML object>"
      ]
     },
     "metadata": {},
     "output_type": "display_data"
    },
    {
     "name": "stdout",
     "output_type": "stream",
     "text": [
      "\n",
      "Evaluation Metrics on Validation Set (used during training):\n",
      "+-------------------------+---------+\n",
      "|                         |   Value |\n",
      "+=========================+=========+\n",
      "| eval_loss               |  1.7470 |\n",
      "+-------------------------+---------+\n",
      "| eval_accuracy           |  0.8000 |\n",
      "+-------------------------+---------+\n",
      "| eval_f1_weighted        |  0.7505 |\n",
      "+-------------------------+---------+\n",
      "| eval_runtime            |  0.9747 |\n",
      "+-------------------------+---------+\n",
      "| eval_samples_per_second | 10.2590 |\n",
      "+-------------------------+---------+\n",
      "| eval_steps_per_second   |  1.0260 |\n",
      "+-------------------------+---------+\n",
      "| epoch                   |  5.0000 |\n",
      "+-------------------------+---------+\n"
     ]
    }
   ],
   "source": [
    "# 8. Training Arguments\n",
    "training_args = TrainingArguments(\n",
    "    output_dir=\"./results_mail_category\", # Directory for logs and checkpoints\n",
    "    num_train_epochs=5,                  # Number of training epochs\n",
    "    per_device_train_batch_size=16,      # Batch size for training\n",
    "    per_device_eval_batch_size=16,       # Batch size for evaluation\n",
    "    warmup_steps=10,                     # Number of warmup steps for learning rate scheduler\n",
    "    weight_decay=0.01,                   # Strength of weight decay\n",
    "    logging_dir=\"./logs_mail_category\",  # Directory for storing logs\n",
    "    logging_strategy=\"epoch\",            # Log metrics at the end of each epoch\n",
    "    save_strategy=\"epoch\",               # Save model at the end of each epoch\n",
    "    eval_strategy=\"epoch\",         # Evaluate at the end of each epoch\n",
    "    load_best_model_at_end=True,         # Load the best model at the end of training\n",
    "    metric_for_best_model=\"f1_weighted\", # Metric to use to compare models\n",
    "    report_to=\"none\",                    # Don't report to any online services\n",
    ")\n",
    "\n",
    "\n",
    "print(\"\\n--- 6. Initializing and Running Trainer ---\")\n",
    "# 9. Trainer\n",
    "trainer = Trainer(\n",
    "    model=model,\n",
    "    args=training_args,\n",
    "    train_dataset=tokenized_train_ds,\n",
    "    eval_dataset=tokenized_eval_ds,\n",
    "    compute_metrics=compute_metrics,\n",
    "    tokenizer=tokenizer\n",
    ")\n",
    "\n",
    "# Start training!\n",
    "trainer.train()\n",
    "\n",
    "print(\"\\n--- 7. Evaluation Metrics on Validation Set ---\")\n",
    "eval_results = trainer.evaluate()\n",
    "print(\"\\nEvaluation Metrics on Validation Set (used during training):\")\n",
    "eval_df = pd.DataFrame([eval_results]).transpose()\n",
    "eval_df.columns = ['Value']\n",
    "print(tabulate(eval_df, headers='keys', tablefmt='grid', floatfmt=\".4f\"))"
   ]
  },
  {
   "cell_type": "code",
   "execution_count": 13,
   "metadata": {
    "colab": {
     "base_uri": "https://localhost:8080/"
    },
    "id": "AfBw_ukNLcQA",
    "outputId": "a9eb5c36-f86f-4b33-aab5-a7735ad7ca26"
   },
   "outputs": [
    {
     "name": "stdout",
     "output_type": "stream",
     "text": [
      "\n",
      "--- 8. Saving the Fine-tuned Model ---\n",
      "\n",
      "Model and tokenizer saved to: ./mail_category\n"
     ]
    }
   ],
   "source": [
    "print(\"\\n--- 8. Saving the Fine-tuned Model ---\")\n",
    "# 10. Save the model in the specified directory\n",
    "save_path = \"./mail_category\"\n",
    "trainer.save_model(save_path)\n",
    "tokenizer.save_pretrained(save_path)\n",
    "print(f\"\\nModel and tokenizer saved to: {save_path}\")"
   ]
  },
  {
   "cell_type": "code",
   "execution_count": 14,
   "metadata": {
    "colab": {
     "base_uri": "https://localhost:8080/",
     "height": 696
    },
    "id": "w1Ey5DesPxdC",
    "outputId": "d9288095-60a9-4551-e4ab-bb2e4493fc67"
   },
   "outputs": [
    {
     "name": "stdout",
     "output_type": "stream",
     "text": [
      "\n",
      "--- 9. Performing Inference and Evaluation on Final Test Set ---\n"
     ]
    },
    {
     "name": "stderr",
     "output_type": "stream",
     "text": [
      "C:\\Users\\Darshan\\AppData\\Local\\Temp\\ipykernel_21484\\544017875.py:8: FutureWarning: `tokenizer` is deprecated and will be removed in version 5.0.0 for `Trainer.__init__`. Use `processing_class` instead.\n",
      "  final_test_trainer = Trainer(model=loaded_model, tokenizer=loaded_tokenizer)\n"
     ]
    },
    {
     "data": {
      "text/html": [],
      "text/plain": [
       "<IPython.core.display.HTML object>"
      ]
     },
     "metadata": {},
     "output_type": "display_data"
    },
    {
     "name": "stdout",
     "output_type": "stream",
     "text": [
      "\n",
      "--- Actual vs. Predicted Categories for Final Test Samples ---\n",
      "+----+------------------------------------------------------------------------------------------------------------------------------------------------------------------------------+---------------------------+---------------------------+--------------+\n",
      "|    | text                                                                                                                                                                         | actual_label              | predicted_label           |   confidence |\n",
      "+====+==============================================================================================================================================================================+===========================+===========================+==============+\n",
      "|  0 | Important: All department heads must review and implement the new sustainability guidelines. Our planet's health depends on our actions. Best, Daniel Rodriguez              | Sustainability Initiative | Sustainability Initiative |       0.2206 |\n",
      "+----+------------------------------------------------------------------------------------------------------------------------------------------------------------------------------+---------------------------+---------------------------+--------------+\n",
      "|  1 | Attached is the financial analysis report for the third quarter. Please review and provide any insights or recommendations. Best, Maria Gonzalez                             | Financial Report          | Sustainability Initiative |       0.1556 |\n",
      "+----+------------------------------------------------------------------------------------------------------------------------------------------------------------------------------+---------------------------+---------------------------+--------------+\n",
      "|  2 | Our 'Zero-Waste Campaign' has made significant strides, and we're thrilled with the progress. Stay tuned for more updates on our sustainability journey. Cheers, John Carter | Sustainability Initiative | Sustainability Initiative |       0.2473 |\n",
      "+----+------------------------------------------------------------------------------------------------------------------------------------------------------------------------------+---------------------------+---------------------------+--------------+\n",
      "|  3 | I am pleased to announce that we have successfully completed the merger with XYZ Corp. Cheers, Michael Johnson                                                               | Merger Announcement       | Merger Announcement       |       0.2064 |\n",
      "+----+------------------------------------------------------------------------------------------------------------------------------------------------------------------------------+---------------------------+---------------------------+--------------+\n",
      "|  4 | I am pleased to announce that we have successfully completed the merger with XYZ Corp. Cheers, Michael Johnson                                                               | Merger Announcement       | Merger Announcement       |       0.2064 |\n",
      "+----+------------------------------------------------------------------------------------------------------------------------------------------------------------------------------+---------------------------+---------------------------+--------------+\n",
      "|  5 | The health benefits provided by the company are not being utilized well by many employees. Could we have a session on how to effectively use them? - John Davis              | Employee Feedback         | Employee Feedback         |       0.1800 |\n",
      "+----+------------------------------------------------------------------------------------------------------------------------------------------------------------------------------+---------------------------+---------------------------+--------------+\n",
      "|  6 | Our new sustainability initiatives are ready for implementation. Let's make a positive impact together. - Robert Brown                                                       | Sustainability Initiative | Sustainability Initiative |       0.2440 |\n",
      "+----+------------------------------------------------------------------------------------------------------------------------------------------------------------------------------+---------------------------+---------------------------+--------------+\n",
      "|  7 | I'd like to commend the HR team for their quick response to the employee recognition program. The awards ceremony was well-organized and appreciated. - Jessica Kim          | Employee Feedback         | Employee Feedback         |       0.1949 |\n",
      "+----+------------------------------------------------------------------------------------------------------------------------------------------------------------------------------+---------------------------+---------------------------+--------------+\n",
      "|  8 | The company is investing in local community projects that promote sustainability. Best, Lisa Chen                                                                            | Sustainability Initiative | Sustainability Initiative |       0.1962 |\n",
      "+----+------------------------------------------------------------------------------------------------------------------------------------------------------------------------------+---------------------------+---------------------------+--------------+\n",
      "\n",
      "Evaluation Metrics on Final Test Set:\n",
      "+-------------+---------+\n",
      "|             |   Value |\n",
      "+=============+=========+\n",
      "| accuracy    |  0.8889 |\n",
      "+-------------+---------+\n",
      "| f1_weighted |  0.8395 |\n",
      "+-------------+---------+\n",
      "\n",
      "--- Fine-tuning process complete! ---\n"
     ]
    }
   ],
   "source": [
    "print(\"\\n--- 9. Performing Inference and Evaluation on Final Test Set ---\")\n",
    "# Load the saved model to ensure we are using the fine-tuned one\n",
    "loaded_tokenizer = AutoTokenizer.from_pretrained(save_path)\n",
    "loaded_model = AutoModelForSequenceClassification.from_pretrained(save_path, num_labels=num_labels)\n",
    "loaded_model.to(device) # Move to GPU if available\n",
    "\n",
    "# Use the loaded model for prediction on the FINAL test set\n",
    "final_test_trainer = Trainer(model=loaded_model, tokenizer=loaded_tokenizer)\n",
    "\n",
    "# Predict on the tokenized final test dataset\n",
    "predictions_final_test = final_test_trainer.predict(tokenized_test_ds_final)\n",
    "\n",
    "# Get predicted class IDs and confidence scores\n",
    "predicted_ids_final_test = np.argmax(predictions_final_test.predictions, axis=1)\n",
    "confidence_scores_final_test = np.max(torch.softmax(torch.tensor(predictions_final_test.predictions), dim=1).numpy(), axis=1)\n",
    "\n",
    "# Get actual labels from the original (non-tokenized) test_ds_final\n",
    "actual_labels_final_test = [id_to_label[label_id] for label_id in test_ds_final['label']]\n",
    "\n",
    "# Map predicted IDs back to original labels\n",
    "predicted_labels_final_test = [id_to_label[id_val] for id_val in predicted_ids_final_test]\n",
    "\n",
    "# Create a DataFrame for tabular output of actual vs. predicted\n",
    "final_results_df = pd.DataFrame({\n",
    "    'text': test_ds_final['text'],\n",
    "    'actual_label': actual_labels_final_test,\n",
    "    'predicted_label': predicted_labels_final_test,\n",
    "    'confidence': confidence_scores_final_test\n",
    "}).reset_index(drop=True)\n",
    "\n",
    "print(\"\\n--- Actual vs. Predicted Categories for Final Test Samples ---\")\n",
    "print(tabulate(final_results_df, headers='keys', tablefmt='grid', floatfmt=\".4f\"))\n",
    "\n",
    "# Calculate and print metrics for the final test set\n",
    "final_test_metrics = compute_metrics(predictions_final_test)\n",
    "print(\"\\nEvaluation Metrics on Final Test Set:\")\n",
    "final_test_metrics_df = pd.DataFrame([final_test_metrics]).transpose()\n",
    "final_test_metrics_df.columns = ['Value']\n",
    "print(tabulate(final_test_metrics_df, headers='keys', tablefmt='grid', floatfmt=\".4f\"))\n",
    "\n",
    "\n",
    "print(\"\\n--- Fine-tuning process complete! ---\")"
   ]
  },
  {
   "cell_type": "code",
   "execution_count": null,
   "metadata": {
    "id": "5i61UGr4QIwR"
   },
   "outputs": [],
   "source": []
  }
 ],
 "metadata": {
  "accelerator": "GPU",
  "colab": {
   "gpuType": "T4",
   "provenance": []
  },
  "kernelspec": {
   "display_name": "Python 3 (ipykernel)",
   "language": "python",
   "name": "python3"
  },
  "language_info": {
   "codemirror_mode": {
    "name": "ipython",
    "version": 3
   },
   "file_extension": ".py",
   "mimetype": "text/x-python",
   "name": "python",
   "nbconvert_exporter": "python",
   "pygments_lexer": "ipython3",
   "version": "3.12.8"
  },
  "widgets": {
   "application/vnd.jupyter.widget-state+json": {
    "181c0008e0e04d309766adb23ed00286": {
     "model_module": "@jupyter-widgets/base",
     "model_module_version": "1.2.0",
     "model_name": "LayoutModel",
     "state": {
      "_model_module": "@jupyter-widgets/base",
      "_model_module_version": "1.2.0",
      "_model_name": "LayoutModel",
      "_view_count": null,
      "_view_module": "@jupyter-widgets/base",
      "_view_module_version": "1.2.0",
      "_view_name": "LayoutView",
      "align_content": null,
      "align_items": null,
      "align_self": null,
      "border": null,
      "bottom": null,
      "display": null,
      "flex": null,
      "flex_flow": null,
      "grid_area": null,
      "grid_auto_columns": null,
      "grid_auto_flow": null,
      "grid_auto_rows": null,
      "grid_column": null,
      "grid_gap": null,
      "grid_row": null,
      "grid_template_areas": null,
      "grid_template_columns": null,
      "grid_template_rows": null,
      "height": null,
      "justify_content": null,
      "justify_items": null,
      "left": null,
      "margin": null,
      "max_height": null,
      "max_width": null,
      "min_height": null,
      "min_width": null,
      "object_fit": null,
      "object_position": null,
      "order": null,
      "overflow": null,
      "overflow_x": null,
      "overflow_y": null,
      "padding": null,
      "right": null,
      "top": null,
      "visibility": null,
      "width": null
     }
    },
    "1b5b858a1d584a66b51aa2aa01378da6": {
     "model_module": "@jupyter-widgets/controls",
     "model_module_version": "1.5.0",
     "model_name": "ProgressStyleModel",
     "state": {
      "_model_module": "@jupyter-widgets/controls",
      "_model_module_version": "1.5.0",
      "_model_name": "ProgressStyleModel",
      "_view_count": null,
      "_view_module": "@jupyter-widgets/base",
      "_view_module_version": "1.2.0",
      "_view_name": "StyleView",
      "bar_color": null,
      "description_width": ""
     }
    },
    "1bd24abcffe04800ae8c48882bd291cb": {
     "model_module": "@jupyter-widgets/base",
     "model_module_version": "1.2.0",
     "model_name": "LayoutModel",
     "state": {
      "_model_module": "@jupyter-widgets/base",
      "_model_module_version": "1.2.0",
      "_model_name": "LayoutModel",
      "_view_count": null,
      "_view_module": "@jupyter-widgets/base",
      "_view_module_version": "1.2.0",
      "_view_name": "LayoutView",
      "align_content": null,
      "align_items": null,
      "align_self": null,
      "border": null,
      "bottom": null,
      "display": null,
      "flex": null,
      "flex_flow": null,
      "grid_area": null,
      "grid_auto_columns": null,
      "grid_auto_flow": null,
      "grid_auto_rows": null,
      "grid_column": null,
      "grid_gap": null,
      "grid_row": null,
      "grid_template_areas": null,
      "grid_template_columns": null,
      "grid_template_rows": null,
      "height": null,
      "justify_content": null,
      "justify_items": null,
      "left": null,
      "margin": null,
      "max_height": null,
      "max_width": null,
      "min_height": null,
      "min_width": null,
      "object_fit": null,
      "object_position": null,
      "order": null,
      "overflow": null,
      "overflow_x": null,
      "overflow_y": null,
      "padding": null,
      "right": null,
      "top": null,
      "visibility": null,
      "width": null
     }
    },
    "1d857b79028341859a1d9f632fc1a58d": {
     "model_module": "@jupyter-widgets/controls",
     "model_module_version": "1.5.0",
     "model_name": "ProgressStyleModel",
     "state": {
      "_model_module": "@jupyter-widgets/controls",
      "_model_module_version": "1.5.0",
      "_model_name": "ProgressStyleModel",
      "_view_count": null,
      "_view_module": "@jupyter-widgets/base",
      "_view_module_version": "1.2.0",
      "_view_name": "StyleView",
      "bar_color": null,
      "description_width": ""
     }
    },
    "2220edf2d3404872b313ef8f0032bfc2": {
     "model_module": "@jupyter-widgets/base",
     "model_module_version": "1.2.0",
     "model_name": "LayoutModel",
     "state": {
      "_model_module": "@jupyter-widgets/base",
      "_model_module_version": "1.2.0",
      "_model_name": "LayoutModel",
      "_view_count": null,
      "_view_module": "@jupyter-widgets/base",
      "_view_module_version": "1.2.0",
      "_view_name": "LayoutView",
      "align_content": null,
      "align_items": null,
      "align_self": null,
      "border": null,
      "bottom": null,
      "display": null,
      "flex": null,
      "flex_flow": null,
      "grid_area": null,
      "grid_auto_columns": null,
      "grid_auto_flow": null,
      "grid_auto_rows": null,
      "grid_column": null,
      "grid_gap": null,
      "grid_row": null,
      "grid_template_areas": null,
      "grid_template_columns": null,
      "grid_template_rows": null,
      "height": null,
      "justify_content": null,
      "justify_items": null,
      "left": null,
      "margin": null,
      "max_height": null,
      "max_width": null,
      "min_height": null,
      "min_width": null,
      "object_fit": null,
      "object_position": null,
      "order": null,
      "overflow": null,
      "overflow_x": null,
      "overflow_y": null,
      "padding": null,
      "right": null,
      "top": null,
      "visibility": null,
      "width": null
     }
    },
    "29d2628f0fb14a92a1efa478f25082ab": {
     "model_module": "@jupyter-widgets/base",
     "model_module_version": "1.2.0",
     "model_name": "LayoutModel",
     "state": {
      "_model_module": "@jupyter-widgets/base",
      "_model_module_version": "1.2.0",
      "_model_name": "LayoutModel",
      "_view_count": null,
      "_view_module": "@jupyter-widgets/base",
      "_view_module_version": "1.2.0",
      "_view_name": "LayoutView",
      "align_content": null,
      "align_items": null,
      "align_self": null,
      "border": null,
      "bottom": null,
      "display": null,
      "flex": null,
      "flex_flow": null,
      "grid_area": null,
      "grid_auto_columns": null,
      "grid_auto_flow": null,
      "grid_auto_rows": null,
      "grid_column": null,
      "grid_gap": null,
      "grid_row": null,
      "grid_template_areas": null,
      "grid_template_columns": null,
      "grid_template_rows": null,
      "height": null,
      "justify_content": null,
      "justify_items": null,
      "left": null,
      "margin": null,
      "max_height": null,
      "max_width": null,
      "min_height": null,
      "min_width": null,
      "object_fit": null,
      "object_position": null,
      "order": null,
      "overflow": null,
      "overflow_x": null,
      "overflow_y": null,
      "padding": null,
      "right": null,
      "top": null,
      "visibility": null,
      "width": null
     }
    },
    "2f978867c30d41618d68db183c77b9d6": {
     "model_module": "@jupyter-widgets/base",
     "model_module_version": "1.2.0",
     "model_name": "LayoutModel",
     "state": {
      "_model_module": "@jupyter-widgets/base",
      "_model_module_version": "1.2.0",
      "_model_name": "LayoutModel",
      "_view_count": null,
      "_view_module": "@jupyter-widgets/base",
      "_view_module_version": "1.2.0",
      "_view_name": "LayoutView",
      "align_content": null,
      "align_items": null,
      "align_self": null,
      "border": null,
      "bottom": null,
      "display": null,
      "flex": null,
      "flex_flow": null,
      "grid_area": null,
      "grid_auto_columns": null,
      "grid_auto_flow": null,
      "grid_auto_rows": null,
      "grid_column": null,
      "grid_gap": null,
      "grid_row": null,
      "grid_template_areas": null,
      "grid_template_columns": null,
      "grid_template_rows": null,
      "height": null,
      "justify_content": null,
      "justify_items": null,
      "left": null,
      "margin": null,
      "max_height": null,
      "max_width": null,
      "min_height": null,
      "min_width": null,
      "object_fit": null,
      "object_position": null,
      "order": null,
      "overflow": null,
      "overflow_x": null,
      "overflow_y": null,
      "padding": null,
      "right": null,
      "top": null,
      "visibility": null,
      "width": null
     }
    },
    "38e9e5b4f2c04bd6abf2cd850274ea13": {
     "model_module": "@jupyter-widgets/controls",
     "model_module_version": "1.5.0",
     "model_name": "FloatProgressModel",
     "state": {
      "_dom_classes": [],
      "_model_module": "@jupyter-widgets/controls",
      "_model_module_version": "1.5.0",
      "_model_name": "FloatProgressModel",
      "_view_count": null,
      "_view_module": "@jupyter-widgets/controls",
      "_view_module_version": "1.5.0",
      "_view_name": "ProgressView",
      "bar_style": "success",
      "description": "",
      "description_tooltip": null,
      "layout": "IPY_MODEL_e6161b980e014dc5bdbd92de44242aee",
      "max": 71,
      "min": 0,
      "orientation": "horizontal",
      "style": "IPY_MODEL_43ce368d73024e8d99f36ce453053d1c",
      "value": 71
     }
    },
    "3f6bae03f3fc47baa238e6d20bdd1e5d": {
     "model_module": "@jupyter-widgets/base",
     "model_module_version": "1.2.0",
     "model_name": "LayoutModel",
     "state": {
      "_model_module": "@jupyter-widgets/base",
      "_model_module_version": "1.2.0",
      "_model_name": "LayoutModel",
      "_view_count": null,
      "_view_module": "@jupyter-widgets/base",
      "_view_module_version": "1.2.0",
      "_view_name": "LayoutView",
      "align_content": null,
      "align_items": null,
      "align_self": null,
      "border": null,
      "bottom": null,
      "display": null,
      "flex": null,
      "flex_flow": null,
      "grid_area": null,
      "grid_auto_columns": null,
      "grid_auto_flow": null,
      "grid_auto_rows": null,
      "grid_column": null,
      "grid_gap": null,
      "grid_row": null,
      "grid_template_areas": null,
      "grid_template_columns": null,
      "grid_template_rows": null,
      "height": null,
      "justify_content": null,
      "justify_items": null,
      "left": null,
      "margin": null,
      "max_height": null,
      "max_width": null,
      "min_height": null,
      "min_width": null,
      "object_fit": null,
      "object_position": null,
      "order": null,
      "overflow": null,
      "overflow_x": null,
      "overflow_y": null,
      "padding": null,
      "right": null,
      "top": null,
      "visibility": null,
      "width": null
     }
    },
    "41a66651099b4ca08d8d7758c0808ce6": {
     "model_module": "@jupyter-widgets/controls",
     "model_module_version": "1.5.0",
     "model_name": "HBoxModel",
     "state": {
      "_dom_classes": [],
      "_model_module": "@jupyter-widgets/controls",
      "_model_module_version": "1.5.0",
      "_model_name": "HBoxModel",
      "_view_count": null,
      "_view_module": "@jupyter-widgets/controls",
      "_view_module_version": "1.5.0",
      "_view_name": "HBoxView",
      "box_style": "",
      "children": [
       "IPY_MODEL_6035db94644c407a85181d57c69e35d6",
       "IPY_MODEL_b557bd26d71a4e4794ddf87c1f95d12a",
       "IPY_MODEL_f10285a100984ecf8efbe55d1faefed9"
      ],
      "layout": "IPY_MODEL_3f6bae03f3fc47baa238e6d20bdd1e5d"
     }
    },
    "43ce368d73024e8d99f36ce453053d1c": {
     "model_module": "@jupyter-widgets/controls",
     "model_module_version": "1.5.0",
     "model_name": "ProgressStyleModel",
     "state": {
      "_model_module": "@jupyter-widgets/controls",
      "_model_module_version": "1.5.0",
      "_model_name": "ProgressStyleModel",
      "_view_count": null,
      "_view_module": "@jupyter-widgets/base",
      "_view_module_version": "1.2.0",
      "_view_name": "StyleView",
      "bar_color": null,
      "description_width": ""
     }
    },
    "45f572b9fd9a4bb6a825e61a886cfbdf": {
     "model_module": "@jupyter-widgets/base",
     "model_module_version": "1.2.0",
     "model_name": "LayoutModel",
     "state": {
      "_model_module": "@jupyter-widgets/base",
      "_model_module_version": "1.2.0",
      "_model_name": "LayoutModel",
      "_view_count": null,
      "_view_module": "@jupyter-widgets/base",
      "_view_module_version": "1.2.0",
      "_view_name": "LayoutView",
      "align_content": null,
      "align_items": null,
      "align_self": null,
      "border": null,
      "bottom": null,
      "display": null,
      "flex": null,
      "flex_flow": null,
      "grid_area": null,
      "grid_auto_columns": null,
      "grid_auto_flow": null,
      "grid_auto_rows": null,
      "grid_column": null,
      "grid_gap": null,
      "grid_row": null,
      "grid_template_areas": null,
      "grid_template_columns": null,
      "grid_template_rows": null,
      "height": null,
      "justify_content": null,
      "justify_items": null,
      "left": null,
      "margin": null,
      "max_height": null,
      "max_width": null,
      "min_height": null,
      "min_width": null,
      "object_fit": null,
      "object_position": null,
      "order": null,
      "overflow": null,
      "overflow_x": null,
      "overflow_y": null,
      "padding": null,
      "right": null,
      "top": null,
      "visibility": null,
      "width": null
     }
    },
    "47d158b2429743689d1a9ed9ce588cb6": {
     "model_module": "@jupyter-widgets/controls",
     "model_module_version": "1.5.0",
     "model_name": "HTMLModel",
     "state": {
      "_dom_classes": [],
      "_model_module": "@jupyter-widgets/controls",
      "_model_module_version": "1.5.0",
      "_model_name": "HTMLModel",
      "_view_count": null,
      "_view_module": "@jupyter-widgets/controls",
      "_view_module_version": "1.5.0",
      "_view_name": "HTMLView",
      "description": "",
      "description_tooltip": null,
      "layout": "IPY_MODEL_d7811e69af4c4734a07dd6d8d4135937",
      "placeholder": "​",
      "style": "IPY_MODEL_4fc1453138054ae290fdd1d23574f8ff",
      "value": "Map: 100%"
     }
    },
    "4fc1453138054ae290fdd1d23574f8ff": {
     "model_module": "@jupyter-widgets/controls",
     "model_module_version": "1.5.0",
     "model_name": "DescriptionStyleModel",
     "state": {
      "_model_module": "@jupyter-widgets/controls",
      "_model_module_version": "1.5.0",
      "_model_name": "DescriptionStyleModel",
      "_view_count": null,
      "_view_module": "@jupyter-widgets/base",
      "_view_module_version": "1.2.0",
      "_view_name": "StyleView",
      "description_width": ""
     }
    },
    "522e0181d3234674a6f395fc0df75537": {
     "model_module": "@jupyter-widgets/controls",
     "model_module_version": "1.5.0",
     "model_name": "HBoxModel",
     "state": {
      "_dom_classes": [],
      "_model_module": "@jupyter-widgets/controls",
      "_model_module_version": "1.5.0",
      "_model_name": "HBoxModel",
      "_view_count": null,
      "_view_module": "@jupyter-widgets/controls",
      "_view_module_version": "1.5.0",
      "_view_name": "HBoxView",
      "box_style": "",
      "children": [
       "IPY_MODEL_f9b46506c065462a8241f7482e03cd5e",
       "IPY_MODEL_fbd6c33be5e54538a33143e1841afd94",
       "IPY_MODEL_a6dda44b9f94410ba3b4726d446d87e6"
      ],
      "layout": "IPY_MODEL_7f3e31ff46b64c11ba9f320e6b92d561"
     }
    },
    "583ca331fb5d45d0aa0c77573726e203": {
     "model_module": "@jupyter-widgets/base",
     "model_module_version": "1.2.0",
     "model_name": "LayoutModel",
     "state": {
      "_model_module": "@jupyter-widgets/base",
      "_model_module_version": "1.2.0",
      "_model_name": "LayoutModel",
      "_view_count": null,
      "_view_module": "@jupyter-widgets/base",
      "_view_module_version": "1.2.0",
      "_view_name": "LayoutView",
      "align_content": null,
      "align_items": null,
      "align_self": null,
      "border": null,
      "bottom": null,
      "display": null,
      "flex": null,
      "flex_flow": null,
      "grid_area": null,
      "grid_auto_columns": null,
      "grid_auto_flow": null,
      "grid_auto_rows": null,
      "grid_column": null,
      "grid_gap": null,
      "grid_row": null,
      "grid_template_areas": null,
      "grid_template_columns": null,
      "grid_template_rows": null,
      "height": null,
      "justify_content": null,
      "justify_items": null,
      "left": null,
      "margin": null,
      "max_height": null,
      "max_width": null,
      "min_height": null,
      "min_width": null,
      "object_fit": null,
      "object_position": null,
      "order": null,
      "overflow": null,
      "overflow_x": null,
      "overflow_y": null,
      "padding": null,
      "right": null,
      "top": null,
      "visibility": null,
      "width": null
     }
    },
    "5caf5ade188f4386af3c88579daa5f15": {
     "model_module": "@jupyter-widgets/controls",
     "model_module_version": "1.5.0",
     "model_name": "FloatProgressModel",
     "state": {
      "_dom_classes": [],
      "_model_module": "@jupyter-widgets/controls",
      "_model_module_version": "1.5.0",
      "_model_name": "FloatProgressModel",
      "_view_count": null,
      "_view_module": "@jupyter-widgets/controls",
      "_view_module_version": "1.5.0",
      "_view_name": "ProgressView",
      "bar_style": "success",
      "description": "",
      "description_tooltip": null,
      "layout": "IPY_MODEL_29d2628f0fb14a92a1efa478f25082ab",
      "max": 9,
      "min": 0,
      "orientation": "horizontal",
      "style": "IPY_MODEL_1d857b79028341859a1d9f632fc1a58d",
      "value": 9
     }
    },
    "6035db94644c407a85181d57c69e35d6": {
     "model_module": "@jupyter-widgets/controls",
     "model_module_version": "1.5.0",
     "model_name": "HTMLModel",
     "state": {
      "_dom_classes": [],
      "_model_module": "@jupyter-widgets/controls",
      "_model_module_version": "1.5.0",
      "_model_name": "HTMLModel",
      "_view_count": null,
      "_view_module": "@jupyter-widgets/controls",
      "_view_module_version": "1.5.0",
      "_view_name": "HTMLView",
      "description": "",
      "description_tooltip": null,
      "layout": "IPY_MODEL_bf774737929442b68ec6089b670de3dc",
      "placeholder": "​",
      "style": "IPY_MODEL_9444a5472ae14e478de2d15f2c2c1507",
      "value": "Map: 100%"
     }
    },
    "6caac7a36860495e895f36cfa0c73e3a": {
     "model_module": "@jupyter-widgets/controls",
     "model_module_version": "1.5.0",
     "model_name": "DescriptionStyleModel",
     "state": {
      "_model_module": "@jupyter-widgets/controls",
      "_model_module_version": "1.5.0",
      "_model_name": "DescriptionStyleModel",
      "_view_count": null,
      "_view_module": "@jupyter-widgets/base",
      "_view_module_version": "1.2.0",
      "_view_name": "StyleView",
      "description_width": ""
     }
    },
    "76bb7c240f5748cb909e18a74a232bb0": {
     "model_module": "@jupyter-widgets/controls",
     "model_module_version": "1.5.0",
     "model_name": "HTMLModel",
     "state": {
      "_dom_classes": [],
      "_model_module": "@jupyter-widgets/controls",
      "_model_module_version": "1.5.0",
      "_model_name": "HTMLModel",
      "_view_count": null,
      "_view_module": "@jupyter-widgets/controls",
      "_view_module_version": "1.5.0",
      "_view_name": "HTMLView",
      "description": "",
      "description_tooltip": null,
      "layout": "IPY_MODEL_583ca331fb5d45d0aa0c77573726e203",
      "placeholder": "​",
      "style": "IPY_MODEL_ca168de9f8f64591b6bae9b1245d732a",
      "value": "Map: 100%"
     }
    },
    "7f3e31ff46b64c11ba9f320e6b92d561": {
     "model_module": "@jupyter-widgets/base",
     "model_module_version": "1.2.0",
     "model_name": "LayoutModel",
     "state": {
      "_model_module": "@jupyter-widgets/base",
      "_model_module_version": "1.2.0",
      "_model_name": "LayoutModel",
      "_view_count": null,
      "_view_module": "@jupyter-widgets/base",
      "_view_module_version": "1.2.0",
      "_view_name": "LayoutView",
      "align_content": null,
      "align_items": null,
      "align_self": null,
      "border": null,
      "bottom": null,
      "display": null,
      "flex": null,
      "flex_flow": null,
      "grid_area": null,
      "grid_auto_columns": null,
      "grid_auto_flow": null,
      "grid_auto_rows": null,
      "grid_column": null,
      "grid_gap": null,
      "grid_row": null,
      "grid_template_areas": null,
      "grid_template_columns": null,
      "grid_template_rows": null,
      "height": null,
      "justify_content": null,
      "justify_items": null,
      "left": null,
      "margin": null,
      "max_height": null,
      "max_width": null,
      "min_height": null,
      "min_width": null,
      "object_fit": null,
      "object_position": null,
      "order": null,
      "overflow": null,
      "overflow_x": null,
      "overflow_y": null,
      "padding": null,
      "right": null,
      "top": null,
      "visibility": null,
      "width": null
     }
    },
    "92accd68dc9a4d13b57e6afc9c6ab7e9": {
     "model_module": "@jupyter-widgets/controls",
     "model_module_version": "1.5.0",
     "model_name": "HBoxModel",
     "state": {
      "_dom_classes": [],
      "_model_module": "@jupyter-widgets/controls",
      "_model_module_version": "1.5.0",
      "_model_name": "HBoxModel",
      "_view_count": null,
      "_view_module": "@jupyter-widgets/controls",
      "_view_module_version": "1.5.0",
      "_view_name": "HBoxView",
      "box_style": "",
      "children": [
       "IPY_MODEL_76bb7c240f5748cb909e18a74a232bb0",
       "IPY_MODEL_5caf5ade188f4386af3c88579daa5f15",
       "IPY_MODEL_bcc27fae08834da2b510c76eda59feb7"
      ],
      "layout": "IPY_MODEL_de0cd1846ffb4cc79cc0bdfd50e57ce4"
     }
    },
    "93198560051c435880833b081316114e": {
     "model_module": "@jupyter-widgets/controls",
     "model_module_version": "1.5.0",
     "model_name": "HTMLModel",
     "state": {
      "_dom_classes": [],
      "_model_module": "@jupyter-widgets/controls",
      "_model_module_version": "1.5.0",
      "_model_name": "HTMLModel",
      "_view_count": null,
      "_view_module": "@jupyter-widgets/controls",
      "_view_module_version": "1.5.0",
      "_view_name": "HTMLView",
      "description": "",
      "description_tooltip": null,
      "layout": "IPY_MODEL_181c0008e0e04d309766adb23ed00286",
      "placeholder": "​",
      "style": "IPY_MODEL_6caac7a36860495e895f36cfa0c73e3a",
      "value": " 71/71 [00:00&lt;00:00, 2005.76 examples/s]"
     }
    },
    "9444a5472ae14e478de2d15f2c2c1507": {
     "model_module": "@jupyter-widgets/controls",
     "model_module_version": "1.5.0",
     "model_name": "DescriptionStyleModel",
     "state": {
      "_model_module": "@jupyter-widgets/controls",
      "_model_module_version": "1.5.0",
      "_model_name": "DescriptionStyleModel",
      "_view_count": null,
      "_view_module": "@jupyter-widgets/base",
      "_view_module_version": "1.2.0",
      "_view_name": "StyleView",
      "description_width": ""
     }
    },
    "9d2b6f198c424e008d160baafc95ff5f": {
     "model_module": "@jupyter-widgets/controls",
     "model_module_version": "1.5.0",
     "model_name": "ProgressStyleModel",
     "state": {
      "_model_module": "@jupyter-widgets/controls",
      "_model_module_version": "1.5.0",
      "_model_name": "ProgressStyleModel",
      "_view_count": null,
      "_view_module": "@jupyter-widgets/base",
      "_view_module_version": "1.2.0",
      "_view_name": "StyleView",
      "bar_color": null,
      "description_width": ""
     }
    },
    "a6dda44b9f94410ba3b4726d446d87e6": {
     "model_module": "@jupyter-widgets/controls",
     "model_module_version": "1.5.0",
     "model_name": "HTMLModel",
     "state": {
      "_dom_classes": [],
      "_model_module": "@jupyter-widgets/controls",
      "_model_module_version": "1.5.0",
      "_model_name": "HTMLModel",
      "_view_count": null,
      "_view_module": "@jupyter-widgets/controls",
      "_view_module_version": "1.5.0",
      "_view_name": "HTMLView",
      "description": "",
      "description_tooltip": null,
      "layout": "IPY_MODEL_e57a1d8fa2bf4a55821994f9b11f8946",
      "placeholder": "​",
      "style": "IPY_MODEL_ab4d666ab72643c28d48ec4d73c4d5a4",
      "value": " 10/10 [00:00&lt;00:00, 382.22 examples/s]"
     }
    },
    "aab94b0bfde146a090915087e8c72349": {
     "model_module": "@jupyter-widgets/controls",
     "model_module_version": "1.5.0",
     "model_name": "HBoxModel",
     "state": {
      "_dom_classes": [],
      "_model_module": "@jupyter-widgets/controls",
      "_model_module_version": "1.5.0",
      "_model_name": "HBoxModel",
      "_view_count": null,
      "_view_module": "@jupyter-widgets/controls",
      "_view_module_version": "1.5.0",
      "_view_name": "HBoxView",
      "box_style": "",
      "children": [
       "IPY_MODEL_47d158b2429743689d1a9ed9ce588cb6",
       "IPY_MODEL_38e9e5b4f2c04bd6abf2cd850274ea13",
       "IPY_MODEL_93198560051c435880833b081316114e"
      ],
      "layout": "IPY_MODEL_1bd24abcffe04800ae8c48882bd291cb"
     }
    },
    "ab4d666ab72643c28d48ec4d73c4d5a4": {
     "model_module": "@jupyter-widgets/controls",
     "model_module_version": "1.5.0",
     "model_name": "DescriptionStyleModel",
     "state": {
      "_model_module": "@jupyter-widgets/controls",
      "_model_module_version": "1.5.0",
      "_model_name": "DescriptionStyleModel",
      "_view_count": null,
      "_view_module": "@jupyter-widgets/base",
      "_view_module_version": "1.2.0",
      "_view_name": "StyleView",
      "description_width": ""
     }
    },
    "abd4e20d07fc4c759ad51539a518da8b": {
     "model_module": "@jupyter-widgets/controls",
     "model_module_version": "1.5.0",
     "model_name": "DescriptionStyleModel",
     "state": {
      "_model_module": "@jupyter-widgets/controls",
      "_model_module_version": "1.5.0",
      "_model_name": "DescriptionStyleModel",
      "_view_count": null,
      "_view_module": "@jupyter-widgets/base",
      "_view_module_version": "1.2.0",
      "_view_name": "StyleView",
      "description_width": ""
     }
    },
    "b557bd26d71a4e4794ddf87c1f95d12a": {
     "model_module": "@jupyter-widgets/controls",
     "model_module_version": "1.5.0",
     "model_name": "FloatProgressModel",
     "state": {
      "_dom_classes": [],
      "_model_module": "@jupyter-widgets/controls",
      "_model_module_version": "1.5.0",
      "_model_name": "FloatProgressModel",
      "_view_count": null,
      "_view_module": "@jupyter-widgets/controls",
      "_view_module_version": "1.5.0",
      "_view_name": "ProgressView",
      "bar_style": "success",
      "description": "",
      "description_tooltip": null,
      "layout": "IPY_MODEL_be265ec73272424788d7af30fdb25ae5",
      "max": 90,
      "min": 0,
      "orientation": "horizontal",
      "style": "IPY_MODEL_1b5b858a1d584a66b51aa2aa01378da6",
      "value": 90
     }
    },
    "bcc27fae08834da2b510c76eda59feb7": {
     "model_module": "@jupyter-widgets/controls",
     "model_module_version": "1.5.0",
     "model_name": "HTMLModel",
     "state": {
      "_dom_classes": [],
      "_model_module": "@jupyter-widgets/controls",
      "_model_module_version": "1.5.0",
      "_model_name": "HTMLModel",
      "_view_count": null,
      "_view_module": "@jupyter-widgets/controls",
      "_view_module_version": "1.5.0",
      "_view_name": "HTMLView",
      "description": "",
      "description_tooltip": null,
      "layout": "IPY_MODEL_45f572b9fd9a4bb6a825e61a886cfbdf",
      "placeholder": "​",
      "style": "IPY_MODEL_c000f2e13478477c813e92d983e17f37",
      "value": " 9/9 [00:00&lt;00:00, 371.12 examples/s]"
     }
    },
    "be265ec73272424788d7af30fdb25ae5": {
     "model_module": "@jupyter-widgets/base",
     "model_module_version": "1.2.0",
     "model_name": "LayoutModel",
     "state": {
      "_model_module": "@jupyter-widgets/base",
      "_model_module_version": "1.2.0",
      "_model_name": "LayoutModel",
      "_view_count": null,
      "_view_module": "@jupyter-widgets/base",
      "_view_module_version": "1.2.0",
      "_view_name": "LayoutView",
      "align_content": null,
      "align_items": null,
      "align_self": null,
      "border": null,
      "bottom": null,
      "display": null,
      "flex": null,
      "flex_flow": null,
      "grid_area": null,
      "grid_auto_columns": null,
      "grid_auto_flow": null,
      "grid_auto_rows": null,
      "grid_column": null,
      "grid_gap": null,
      "grid_row": null,
      "grid_template_areas": null,
      "grid_template_columns": null,
      "grid_template_rows": null,
      "height": null,
      "justify_content": null,
      "justify_items": null,
      "left": null,
      "margin": null,
      "max_height": null,
      "max_width": null,
      "min_height": null,
      "min_width": null,
      "object_fit": null,
      "object_position": null,
      "order": null,
      "overflow": null,
      "overflow_x": null,
      "overflow_y": null,
      "padding": null,
      "right": null,
      "top": null,
      "visibility": null,
      "width": null
     }
    },
    "bf774737929442b68ec6089b670de3dc": {
     "model_module": "@jupyter-widgets/base",
     "model_module_version": "1.2.0",
     "model_name": "LayoutModel",
     "state": {
      "_model_module": "@jupyter-widgets/base",
      "_model_module_version": "1.2.0",
      "_model_name": "LayoutModel",
      "_view_count": null,
      "_view_module": "@jupyter-widgets/base",
      "_view_module_version": "1.2.0",
      "_view_name": "LayoutView",
      "align_content": null,
      "align_items": null,
      "align_self": null,
      "border": null,
      "bottom": null,
      "display": null,
      "flex": null,
      "flex_flow": null,
      "grid_area": null,
      "grid_auto_columns": null,
      "grid_auto_flow": null,
      "grid_auto_rows": null,
      "grid_column": null,
      "grid_gap": null,
      "grid_row": null,
      "grid_template_areas": null,
      "grid_template_columns": null,
      "grid_template_rows": null,
      "height": null,
      "justify_content": null,
      "justify_items": null,
      "left": null,
      "margin": null,
      "max_height": null,
      "max_width": null,
      "min_height": null,
      "min_width": null,
      "object_fit": null,
      "object_position": null,
      "order": null,
      "overflow": null,
      "overflow_x": null,
      "overflow_y": null,
      "padding": null,
      "right": null,
      "top": null,
      "visibility": null,
      "width": null
     }
    },
    "c000f2e13478477c813e92d983e17f37": {
     "model_module": "@jupyter-widgets/controls",
     "model_module_version": "1.5.0",
     "model_name": "DescriptionStyleModel",
     "state": {
      "_model_module": "@jupyter-widgets/controls",
      "_model_module_version": "1.5.0",
      "_model_name": "DescriptionStyleModel",
      "_view_count": null,
      "_view_module": "@jupyter-widgets/base",
      "_view_module_version": "1.2.0",
      "_view_name": "StyleView",
      "description_width": ""
     }
    },
    "c5b730eb812e4bc5b4bef7f8859fd987": {
     "model_module": "@jupyter-widgets/base",
     "model_module_version": "1.2.0",
     "model_name": "LayoutModel",
     "state": {
      "_model_module": "@jupyter-widgets/base",
      "_model_module_version": "1.2.0",
      "_model_name": "LayoutModel",
      "_view_count": null,
      "_view_module": "@jupyter-widgets/base",
      "_view_module_version": "1.2.0",
      "_view_name": "LayoutView",
      "align_content": null,
      "align_items": null,
      "align_self": null,
      "border": null,
      "bottom": null,
      "display": null,
      "flex": null,
      "flex_flow": null,
      "grid_area": null,
      "grid_auto_columns": null,
      "grid_auto_flow": null,
      "grid_auto_rows": null,
      "grid_column": null,
      "grid_gap": null,
      "grid_row": null,
      "grid_template_areas": null,
      "grid_template_columns": null,
      "grid_template_rows": null,
      "height": null,
      "justify_content": null,
      "justify_items": null,
      "left": null,
      "margin": null,
      "max_height": null,
      "max_width": null,
      "min_height": null,
      "min_width": null,
      "object_fit": null,
      "object_position": null,
      "order": null,
      "overflow": null,
      "overflow_x": null,
      "overflow_y": null,
      "padding": null,
      "right": null,
      "top": null,
      "visibility": null,
      "width": null
     }
    },
    "ca168de9f8f64591b6bae9b1245d732a": {
     "model_module": "@jupyter-widgets/controls",
     "model_module_version": "1.5.0",
     "model_name": "DescriptionStyleModel",
     "state": {
      "_model_module": "@jupyter-widgets/controls",
      "_model_module_version": "1.5.0",
      "_model_name": "DescriptionStyleModel",
      "_view_count": null,
      "_view_module": "@jupyter-widgets/base",
      "_view_module_version": "1.2.0",
      "_view_name": "StyleView",
      "description_width": ""
     }
    },
    "d7811e69af4c4734a07dd6d8d4135937": {
     "model_module": "@jupyter-widgets/base",
     "model_module_version": "1.2.0",
     "model_name": "LayoutModel",
     "state": {
      "_model_module": "@jupyter-widgets/base",
      "_model_module_version": "1.2.0",
      "_model_name": "LayoutModel",
      "_view_count": null,
      "_view_module": "@jupyter-widgets/base",
      "_view_module_version": "1.2.0",
      "_view_name": "LayoutView",
      "align_content": null,
      "align_items": null,
      "align_self": null,
      "border": null,
      "bottom": null,
      "display": null,
      "flex": null,
      "flex_flow": null,
      "grid_area": null,
      "grid_auto_columns": null,
      "grid_auto_flow": null,
      "grid_auto_rows": null,
      "grid_column": null,
      "grid_gap": null,
      "grid_row": null,
      "grid_template_areas": null,
      "grid_template_columns": null,
      "grid_template_rows": null,
      "height": null,
      "justify_content": null,
      "justify_items": null,
      "left": null,
      "margin": null,
      "max_height": null,
      "max_width": null,
      "min_height": null,
      "min_width": null,
      "object_fit": null,
      "object_position": null,
      "order": null,
      "overflow": null,
      "overflow_x": null,
      "overflow_y": null,
      "padding": null,
      "right": null,
      "top": null,
      "visibility": null,
      "width": null
     }
    },
    "dcb40a17740f4b19b97b79fce7d8b5ba": {
     "model_module": "@jupyter-widgets/controls",
     "model_module_version": "1.5.0",
     "model_name": "DescriptionStyleModel",
     "state": {
      "_model_module": "@jupyter-widgets/controls",
      "_model_module_version": "1.5.0",
      "_model_name": "DescriptionStyleModel",
      "_view_count": null,
      "_view_module": "@jupyter-widgets/base",
      "_view_module_version": "1.2.0",
      "_view_name": "StyleView",
      "description_width": ""
     }
    },
    "de0cd1846ffb4cc79cc0bdfd50e57ce4": {
     "model_module": "@jupyter-widgets/base",
     "model_module_version": "1.2.0",
     "model_name": "LayoutModel",
     "state": {
      "_model_module": "@jupyter-widgets/base",
      "_model_module_version": "1.2.0",
      "_model_name": "LayoutModel",
      "_view_count": null,
      "_view_module": "@jupyter-widgets/base",
      "_view_module_version": "1.2.0",
      "_view_name": "LayoutView",
      "align_content": null,
      "align_items": null,
      "align_self": null,
      "border": null,
      "bottom": null,
      "display": null,
      "flex": null,
      "flex_flow": null,
      "grid_area": null,
      "grid_auto_columns": null,
      "grid_auto_flow": null,
      "grid_auto_rows": null,
      "grid_column": null,
      "grid_gap": null,
      "grid_row": null,
      "grid_template_areas": null,
      "grid_template_columns": null,
      "grid_template_rows": null,
      "height": null,
      "justify_content": null,
      "justify_items": null,
      "left": null,
      "margin": null,
      "max_height": null,
      "max_width": null,
      "min_height": null,
      "min_width": null,
      "object_fit": null,
      "object_position": null,
      "order": null,
      "overflow": null,
      "overflow_x": null,
      "overflow_y": null,
      "padding": null,
      "right": null,
      "top": null,
      "visibility": null,
      "width": null
     }
    },
    "e57a1d8fa2bf4a55821994f9b11f8946": {
     "model_module": "@jupyter-widgets/base",
     "model_module_version": "1.2.0",
     "model_name": "LayoutModel",
     "state": {
      "_model_module": "@jupyter-widgets/base",
      "_model_module_version": "1.2.0",
      "_model_name": "LayoutModel",
      "_view_count": null,
      "_view_module": "@jupyter-widgets/base",
      "_view_module_version": "1.2.0",
      "_view_name": "LayoutView",
      "align_content": null,
      "align_items": null,
      "align_self": null,
      "border": null,
      "bottom": null,
      "display": null,
      "flex": null,
      "flex_flow": null,
      "grid_area": null,
      "grid_auto_columns": null,
      "grid_auto_flow": null,
      "grid_auto_rows": null,
      "grid_column": null,
      "grid_gap": null,
      "grid_row": null,
      "grid_template_areas": null,
      "grid_template_columns": null,
      "grid_template_rows": null,
      "height": null,
      "justify_content": null,
      "justify_items": null,
      "left": null,
      "margin": null,
      "max_height": null,
      "max_width": null,
      "min_height": null,
      "min_width": null,
      "object_fit": null,
      "object_position": null,
      "order": null,
      "overflow": null,
      "overflow_x": null,
      "overflow_y": null,
      "padding": null,
      "right": null,
      "top": null,
      "visibility": null,
      "width": null
     }
    },
    "e6161b980e014dc5bdbd92de44242aee": {
     "model_module": "@jupyter-widgets/base",
     "model_module_version": "1.2.0",
     "model_name": "LayoutModel",
     "state": {
      "_model_module": "@jupyter-widgets/base",
      "_model_module_version": "1.2.0",
      "_model_name": "LayoutModel",
      "_view_count": null,
      "_view_module": "@jupyter-widgets/base",
      "_view_module_version": "1.2.0",
      "_view_name": "LayoutView",
      "align_content": null,
      "align_items": null,
      "align_self": null,
      "border": null,
      "bottom": null,
      "display": null,
      "flex": null,
      "flex_flow": null,
      "grid_area": null,
      "grid_auto_columns": null,
      "grid_auto_flow": null,
      "grid_auto_rows": null,
      "grid_column": null,
      "grid_gap": null,
      "grid_row": null,
      "grid_template_areas": null,
      "grid_template_columns": null,
      "grid_template_rows": null,
      "height": null,
      "justify_content": null,
      "justify_items": null,
      "left": null,
      "margin": null,
      "max_height": null,
      "max_width": null,
      "min_height": null,
      "min_width": null,
      "object_fit": null,
      "object_position": null,
      "order": null,
      "overflow": null,
      "overflow_x": null,
      "overflow_y": null,
      "padding": null,
      "right": null,
      "top": null,
      "visibility": null,
      "width": null
     }
    },
    "f10285a100984ecf8efbe55d1faefed9": {
     "model_module": "@jupyter-widgets/controls",
     "model_module_version": "1.5.0",
     "model_name": "HTMLModel",
     "state": {
      "_dom_classes": [],
      "_model_module": "@jupyter-widgets/controls",
      "_model_module_version": "1.5.0",
      "_model_name": "HTMLModel",
      "_view_count": null,
      "_view_module": "@jupyter-widgets/controls",
      "_view_module_version": "1.5.0",
      "_view_name": "HTMLView",
      "description": "",
      "description_tooltip": null,
      "layout": "IPY_MODEL_2f978867c30d41618d68db183c77b9d6",
      "placeholder": "​",
      "style": "IPY_MODEL_dcb40a17740f4b19b97b79fce7d8b5ba",
      "value": " 90/90 [00:00&lt;00:00, 1750.44 examples/s]"
     }
    },
    "f9b46506c065462a8241f7482e03cd5e": {
     "model_module": "@jupyter-widgets/controls",
     "model_module_version": "1.5.0",
     "model_name": "HTMLModel",
     "state": {
      "_dom_classes": [],
      "_model_module": "@jupyter-widgets/controls",
      "_model_module_version": "1.5.0",
      "_model_name": "HTMLModel",
      "_view_count": null,
      "_view_module": "@jupyter-widgets/controls",
      "_view_module_version": "1.5.0",
      "_view_name": "HTMLView",
      "description": "",
      "description_tooltip": null,
      "layout": "IPY_MODEL_c5b730eb812e4bc5b4bef7f8859fd987",
      "placeholder": "​",
      "style": "IPY_MODEL_abd4e20d07fc4c759ad51539a518da8b",
      "value": "Map: 100%"
     }
    },
    "fbd6c33be5e54538a33143e1841afd94": {
     "model_module": "@jupyter-widgets/controls",
     "model_module_version": "1.5.0",
     "model_name": "FloatProgressModel",
     "state": {
      "_dom_classes": [],
      "_model_module": "@jupyter-widgets/controls",
      "_model_module_version": "1.5.0",
      "_model_name": "FloatProgressModel",
      "_view_count": null,
      "_view_module": "@jupyter-widgets/controls",
      "_view_module_version": "1.5.0",
      "_view_name": "ProgressView",
      "bar_style": "success",
      "description": "",
      "description_tooltip": null,
      "layout": "IPY_MODEL_2220edf2d3404872b313ef8f0032bfc2",
      "max": 10,
      "min": 0,
      "orientation": "horizontal",
      "style": "IPY_MODEL_9d2b6f198c424e008d160baafc95ff5f",
      "value": 10
     }
    }
   }
  }
 },
 "nbformat": 4,
 "nbformat_minor": 4
}
